{
 "cells": [
  {
   "cell_type": "code",
   "execution_count": 1,
   "metadata": {
    "collapsed": false
   },
   "outputs": [],
   "source": [
    "%matplotlib inline\n",
    "import cv2\n",
    "import collections\n",
    "import numpy as np\n",
    "import scipy as sc\n",
    "import matplotlib.pyplot as plt\n",
    "\n",
    "# k-means\n",
    "from sklearn.cluster import KMeans\n",
    "\n",
    "# keras\n",
    "from keras.models import Sequential\n",
    "from keras.layers.core import Dense,Activation\n",
    "from keras.optimizers import SGD\n",
    "\n",
    "import matplotlib.pylab as pylab\n",
    "pylab.rcParams['figure.figsize'] = 16, 12 # za prikaz većih slika i plotova, zakomentarisati ako nije potrebno\n",
    "\n",
    "#Funkcionalnost implementirana u V1\n",
    "def load_image(path):\n",
    "    return cv2.cvtColor(cv2.imread(path), cv2.COLOR_BGR2RGB)\n",
    "def image_gray(image):\n",
    "    return cv2.cvtColor(image, cv2.COLOR_RGB2GRAY)\n",
    "def image_bin(image_gs):\n",
    "    ret,image_bin = cv2.threshold(image_gs, 127, 255, cv2.THRESH_BINARY)\n",
    "    return image_bin\n",
    "def image_bin_adaptive(image_gs):\n",
    "    image_bin = cv2.adaptiveThreshold(image_gs, 255, cv2.ADAPTIVE_THRESH_MEAN_C, cv2.THRESH_BINARY, 35, 10)\n",
    "    return image_bin\n",
    "def invert(image):\n",
    "    return 255-image\n",
    "def display_image(image, color= False):\n",
    "    if color:\n",
    "        plt.imshow(image)\n",
    "    else:\n",
    "        plt.imshow(image, 'gray')\n",
    "def dilate(image):\n",
    "    kernel = np.ones((3,3)) # strukturni element 3x3 blok\n",
    "    return cv2.dilate(image, kernel, iterations=1)\n",
    "def erode(image):\n",
    "    kernel = np.ones((3,3)) # strukturni element 3x3 blok\n",
    "    return cv2.erode(image, kernel, iterations=1)\n",
    "\n",
    "#Funkcionalnost implementirana u V2\n",
    "def resize_region(region):\n",
    "    resized = cv2.resize(region,(28,28), interpolation = cv2.INTER_NEAREST)\n",
    "    return resized\n",
    "def scale_to_range(image):\n",
    "    return image / 255\n",
    "def matrix_to_vector(image):\n",
    "    return image.flatten()\n",
    "def prepare_for_ann(regions):\n",
    "    ready_for_ann = []\n",
    "    for region in regions:\n",
    "        ready_for_ann.append(matrix_to_vector(scale_to_range(region)))\n",
    "    return ready_for_ann\n",
    "def convert_output(outputs):\n",
    "    return np.eye(len(outputs))\n",
    "def winner(output):\n",
    "    return max(enumerate(output), key=lambda x: x[1])[0]\n",
    "\n",
    "def remove_noise(binary_image):\n",
    "    ret_val = dilate(dilate(erode(invert(binary_image))))\n",
    "    return ret_val\n"
   ]
  },
  {
   "cell_type": "code",
   "execution_count": 2,
   "metadata": {
    "collapsed": true
   },
   "outputs": [],
   "source": [
    "def rotate_regions(contours,angles,centers,sizes,rotate):\n",
    "    ret_val = []\n",
    "    for idx, contour in enumerate(contours):\n",
    "                \n",
    "        angle = angles[idx]\n",
    "        cx,cy = centers[idx]\n",
    "        height, width = sizes[idx]\n",
    "        if width<height:\n",
    "            angle+=90\n",
    "            \n",
    "        # Rotiranje svake tačke regiona oko centra rotacije\n",
    "        alpha = np.pi/2 - abs(np.radians(angle))\n",
    "        region_points = np.ndarray((len(contour), 2), dtype=np.int16)\n",
    "        for i, point in enumerate(contour):\n",
    "            x = point[0]\n",
    "            y = point[1]\n",
    "            \n",
    "            if rotate:\n",
    "                rx = np.sin(alpha)*(x-cx) - np.cos(alpha)*(y-cy) + cx\n",
    "                ry = np.cos(alpha)*(x-cx) + np.sin(alpha)*(y-cy) + cy\n",
    "            else:\n",
    "                rx = x\n",
    "                ry = y\n",
    "            \n",
    "            region_points[i] = [rx,ry]\n",
    "        ret_val.append(region_points)\n",
    "        \n",
    "\n",
    "    return ret_val"
   ]
  },
  {
   "cell_type": "code",
   "execution_count": 3,
   "metadata": {
    "collapsed": true
   },
   "outputs": [],
   "source": [
    "def create_ann():\n",
    "    '''\n",
    "    Implementirati veštačku neuronsku mrežu sa 28x28 ulaznih neurona i jednim skrivenim slojem od 128 neurona.\n",
    "    Odrediti broj izlaznih neurona. Aktivaciona funkcija je sigmoid.\n",
    "    '''\n",
    "    ann = Sequential()\n",
    "    # Postaviti slojeve neurona mreže 'ann'\n",
    "    ann.add(Dense(128, input_dim=28 * 28, activation='sigmoid'))\n",
    "    ann.add(Dense(8, activation='sigmoid'))\n",
    "    #ann.add(Dense(input_dim=784, output_dim=128,init=\"glorot_uniform\"))\n",
    "    #ann.add(Activation(\"sigmoid\"))\n",
    "    #ann.add(Dense(input_dim=128, output_dim=10,init=\"glorot_uniform\"))\n",
    "    #ann.add(Activation(\"sigmoid\"))\n",
    "    return ann\n",
    "    \n",
    "def train_ann(ann, X_train, y_train):\n",
    "    X_train = np.array(X_train, np.float32)\n",
    "    y_train = np.array(y_train, np.float32)\n",
    "   \n",
    "    # definisanje parametra algoritma za obucavanje\n",
    "    sgd = SGD(lr=0.01, momentum=0.9)\n",
    "    ann.compile(loss='mean_squared_error', optimizer=sgd)\n",
    "\n",
    "    # obucavanje neuronske mreze\n",
    "    ann.fit(X_train, y_train, nb_epoch=500, batch_size=1, verbose = 0, shuffle=False, show_accuracy = False) \n",
    "      \n",
    "    return ann"
   ]
  },
  {
   "cell_type": "code",
   "execution_count": 4,
   "metadata": {
    "collapsed": true
   },
   "outputs": [],
   "source": [
    "def select_roi(image_orig, image_bin, rotate=False):\n",
    "    img, contours_borders, hierarchy = cv2.findContours(image_bin.copy(), cv2.RETR_EXTERNAL, cv2.CHAIN_APPROX_NONE)\n",
    "    \n",
    "    contours = []\n",
    "    contour_angles = []\n",
    "    contour_centers = []\n",
    "    contour_sizes = []\n",
    "    for contour in contours_borders:\n",
    "        center, size, angle = cv2.minAreaRect(contour)\n",
    "        xt,yt,w,h = cv2.boundingRect(contour)\n",
    "            \n",
    "        region_points = []\n",
    "        for i in range (xt,xt+w):\n",
    "            for j in range(yt,yt+h):\n",
    "                dist = cv2.pointPolygonTest(contour,(i,j),False)\n",
    "                if dist>=0 and image_bin[j,i]==255: # da li se tacka nalazi unutar konture?\n",
    "                    region_points.append([i,j])\n",
    "        contour_centers.append(center)\n",
    "        contour_angles.append(angle)\n",
    "        contour_sizes.append(size)\n",
    "        contours.append(region_points)\n",
    "    \n",
    "    contours = rotate_regions(contours, contour_angles, contour_centers, contour_sizes,rotate)\n",
    "    \n",
    "    regions_dict = {}\n",
    "    #punimo y tacke radi klasterovanja po y osi(da ti pojasnim)\n",
    "    ya = []\n",
    "    for contour in contours:\n",
    "    \n",
    "        min_x = min(contour[:,0])\n",
    "        max_x = max(contour[:,0])\n",
    "        min_y = min(contour[:,1])\n",
    "        max_y = max(contour[:,1])\n",
    "        \n",
    "        \n",
    "        cv2.rectangle(image_orig,(min_x,min_y),(min_x+(max_x-min_x),min_y+(max_y-min_y)),(255,0,0),2)\n",
    "        \n",
    "        region = np.zeros((max_y-min_y+1,max_x-min_x+1), dtype=np.int16)\n",
    "        for point in contour:\n",
    "            x = point[0]\n",
    "            y = point[1]\n",
    "            \n",
    "            region[y-min_y,x-min_x] = 255\n",
    "\n",
    "        ya.append(min_y)\n",
    "        regions_dict[min_x] = [resize_region(region), (min_x,min_y,max_x-min_x,max_y-min_y)]\n",
    "        \n",
    "    sorted_regions_dict = collections.OrderedDict(sorted(regions_dict.items()))\n",
    "    sorted_regions = np.array(sorted_regions_dict.values())\n",
    "    \n",
    "    sorted_rectangles = sorted_regions[:,1]\n",
    "    region_distances = [-sorted_rectangles[0][0]-sorted_rectangles[0][2]]\n",
    "    # Izdvojiti sortirane parametre opisujućih pravougaonika\n",
    "    # Izračunati rastojanja između svih susednih regiona po x osi i dodati ih u region_distances niz\n",
    "    for x,y,w,h in sorted_regions[1:-1, 1]:\n",
    "        region_distances[-1] += x\n",
    "        region_distances.append(-x-w)\n",
    "    region_distances[-1] += sorted_rectangles[-1][0]\n",
    "    \n",
    "   \n",
    "    \n",
    "    \n",
    "    \n",
    "    return image_orig, sorted_regions[:, 0], region_distances , ya"
   ]
  },
  {
   "cell_type": "code",
   "execution_count": 5,
   "metadata": {
    "collapsed": true
   },
   "outputs": [],
   "source": [
    "def display_result(results,alphabet,k_means,k_means1):\n",
    "    w_space_group = max(enumerate(k_means.cluster_centers_), key = lambda x: x[1])[0]\n",
    "    w_space_group1 = max(enumerate(k_means1.cluster_centers_), key = lambda x: x[1])[0]\n",
    "    result = []\n",
    "    result = []\n",
    "    notes_sum = alphabet[winner(outputs[0])]\n",
    "    for idx, output in enumerate(outputs[1:,:]):\n",
    "        # Iterativno dodavati prepoznate elemente kao u vežbi 2, alphabet[winner(output)]\n",
    "        # Dodati space karakter u slučaju da odgovarajuće rastojanje između dva slova odgovara razmaku između reči.\n",
    "        # U ovu svrhu, koristiti atribut niz k_means.labels_ koji sadrži sortirana rastojanja između susednih slova.\n",
    "        if (k_means.labels_[idx] == w_space_group and k_means1.labels_[idx] == w_space_group1):\n",
    "            result.append(1 - notes_sum)\n",
    "            notes_sum = 0\n",
    "        \n",
    "        notes_sum += alphabet[winner(output)]\n",
    "\n",
    "    if notes_sum > 0:\n",
    "        result.append(notes_sum)\n",
    "    return result"
   ]
  },
  {
   "cell_type": "code",
   "execution_count": 6,
   "metadata": {
    "collapsed": false,
    "scrolled": true
   },
   "outputs": [
    {
     "ename": "error",
     "evalue": "/home/student/opencv/modules/imgproc/src/color.cpp:7349: error: (-215) scn == 3 || scn == 4 in function cvtColor\n",
     "output_type": "error",
     "traceback": [
      "\u001b[1;31m---------------------------------------------------------------------------\u001b[0m",
      "\u001b[1;31merror\u001b[0m                                     Traceback (most recent call last)",
      "\u001b[1;32m<ipython-input-6-c3130e8be970>\u001b[0m in \u001b[0;36m<module>\u001b[1;34m()\u001b[0m\n\u001b[1;32m----> 1\u001b[1;33m \u001b[0mimg_train\u001b[0m \u001b[1;33m=\u001b[0m \u001b[0mload_image\u001b[0m\u001b[1;33m(\u001b[0m\u001b[1;34m'primer4_train.png'\u001b[0m\u001b[1;33m)\u001b[0m\u001b[1;33m\u001b[0m\u001b[0m\n\u001b[0m\u001b[0;32m      2\u001b[0m \u001b[0mimg_train_bin\u001b[0m \u001b[1;33m=\u001b[0m \u001b[0mremove_noise\u001b[0m\u001b[1;33m(\u001b[0m\u001b[0mimage_bin\u001b[0m\u001b[1;33m(\u001b[0m\u001b[0mimage_gray\u001b[0m\u001b[1;33m(\u001b[0m\u001b[0mimg_train\u001b[0m\u001b[1;33m)\u001b[0m\u001b[1;33m)\u001b[0m\u001b[1;33m)\u001b[0m\u001b[1;33m\u001b[0m\u001b[0m\n\u001b[0;32m      3\u001b[0m \u001b[0mdisplay_image\u001b[0m\u001b[1;33m(\u001b[0m\u001b[0mimg_train_bin\u001b[0m\u001b[1;33m)\u001b[0m\u001b[1;33m\u001b[0m\u001b[0m\n",
      "\u001b[1;32m<ipython-input-1-5cab17f377af>\u001b[0m in \u001b[0;36mload_image\u001b[1;34m(path)\u001b[0m\n\u001b[0;32m     19\u001b[0m \u001b[1;31m#Funkcionalnost implementirana u V1\u001b[0m\u001b[1;33m\u001b[0m\u001b[1;33m\u001b[0m\u001b[0m\n\u001b[0;32m     20\u001b[0m \u001b[1;32mdef\u001b[0m \u001b[0mload_image\u001b[0m\u001b[1;33m(\u001b[0m\u001b[0mpath\u001b[0m\u001b[1;33m)\u001b[0m\u001b[1;33m:\u001b[0m\u001b[1;33m\u001b[0m\u001b[0m\n\u001b[1;32m---> 21\u001b[1;33m     \u001b[1;32mreturn\u001b[0m \u001b[0mcv2\u001b[0m\u001b[1;33m.\u001b[0m\u001b[0mcvtColor\u001b[0m\u001b[1;33m(\u001b[0m\u001b[0mcv2\u001b[0m\u001b[1;33m.\u001b[0m\u001b[0mimread\u001b[0m\u001b[1;33m(\u001b[0m\u001b[0mpath\u001b[0m\u001b[1;33m)\u001b[0m\u001b[1;33m,\u001b[0m \u001b[0mcv2\u001b[0m\u001b[1;33m.\u001b[0m\u001b[0mCOLOR_BGR2RGB\u001b[0m\u001b[1;33m)\u001b[0m\u001b[1;33m\u001b[0m\u001b[0m\n\u001b[0m\u001b[0;32m     22\u001b[0m \u001b[1;32mdef\u001b[0m \u001b[0mimage_gray\u001b[0m\u001b[1;33m(\u001b[0m\u001b[0mimage\u001b[0m\u001b[1;33m)\u001b[0m\u001b[1;33m:\u001b[0m\u001b[1;33m\u001b[0m\u001b[0m\n\u001b[0;32m     23\u001b[0m     \u001b[1;32mreturn\u001b[0m \u001b[0mcv2\u001b[0m\u001b[1;33m.\u001b[0m\u001b[0mcvtColor\u001b[0m\u001b[1;33m(\u001b[0m\u001b[0mimage\u001b[0m\u001b[1;33m,\u001b[0m \u001b[0mcv2\u001b[0m\u001b[1;33m.\u001b[0m\u001b[0mCOLOR_RGB2GRAY\u001b[0m\u001b[1;33m)\u001b[0m\u001b[1;33m\u001b[0m\u001b[0m\n",
      "\u001b[1;31merror\u001b[0m: /home/student/opencv/modules/imgproc/src/color.cpp:7349: error: (-215) scn == 3 || scn == 4 in function cvtColor\n"
     ]
    }
   ],
   "source": [
    "img_train = load_image('primer4_train.png')\n",
    "img_train_bin = remove_noise(image_bin(image_gray(img_train)))\n",
    "display_image(img_train_bin)"
   ]
  },
  {
   "cell_type": "code",
   "execution_count": null,
   "metadata": {
    "collapsed": false
   },
   "outputs": [],
   "source": [
    "img, selected_regions, distances, y = select_roi(img_train, img_train_bin)\n",
    "print len(selected_regions)\n",
    "display_image(img)"
   ]
  },
  {
   "cell_type": "code",
   "execution_count": null,
   "metadata": {
    "collapsed": false
   },
   "outputs": [],
   "source": [
    "img_train = load_image('primer4_train.png')\n",
    "img_train_bin = dilate(invert(image_bin(image_gray(img_train))))\n",
    "sel_img_train, shapes, distances, y = select_roi(img_train.copy(), img_train_bin)\n",
    "display_image(img_train_bin)\n",
    "inputs = prepare_for_ann(shapes)\n",
    "alphabet = [1./8,1./16,1./4,1./2,1./2,1./4,1./8,1./16]\n",
    "outputs = convert_output(alphabet)\n",
    "ann = create_ann()\n",
    "ann = train_ann(ann, inputs, outputs)\n",
    "results = ann.predict(np.array(inputs, np.float32))\n",
    "for note in results:\n",
    "    print alphabet[winner(note)]"
   ]
  },
  {
   "cell_type": "code",
   "execution_count": null,
   "metadata": {
    "collapsed": false
   },
   "outputs": [],
   "source": [
    "img_test = load_image('primer4_test.png')\n",
    "img_test_bin = (remove_noise(image_bin(image_gray(img_test))))\n",
    "all_distances = []\n",
    "#display_image(img_test_bin[:][:250])\n",
    "sel_img_test, shapes, distances, y = select_roi(img_test.copy(), img_test_bin)\n",
    "\n",
    "#display_image(sel_img_test)\n",
    "inputs = prepare_for_ann(shapes)\n",
    "results = ann.predict(np.array(inputs, np.float32))\n",
    "\n",
    "distances = np.array(distances).reshape(len(distances), 1)\n",
    "k_means = KMeans(n_clusters=2, max_iter=2000, tol=0.00001, n_init=10)\n",
    "k_means.fit(distances)\n",
    "\n",
    "y = np.array(y).reshape(len(y), 1)\n",
    "k_means1 = KMeans(n_clusters=2, max_iter=2000, tol=0.00001, n_init=10)\n",
    "k_means1.fit(y)\n",
    "\n",
    "print display_result(results,alphabet,k_means,k_means1)\n",
    "display_image(img_test_bin)\n"
   ]
  },
  {
   "cell_type": "code",
   "execution_count": null,
   "metadata": {
    "collapsed": true
   },
   "outputs": [],
   "source": []
  }
 ],
 "metadata": {
  "kernelspec": {
   "display_name": "Python 2",
   "language": "python",
   "name": "python2"
  },
  "language_info": {
   "codemirror_mode": {
    "name": "ipython",
    "version": 2
   },
   "file_extension": ".py",
   "mimetype": "text/x-python",
   "name": "python",
   "nbconvert_exporter": "python",
   "pygments_lexer": "ipython2",
   "version": "2.7.10"
  }
 },
 "nbformat": 4,
 "nbformat_minor": 0
}
